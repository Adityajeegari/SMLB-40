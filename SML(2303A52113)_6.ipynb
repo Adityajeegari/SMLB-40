{
  "nbformat": 4,
  "nbformat_minor": 0,
  "metadata": {
    "colab": {
      "provenance": [],
      "authorship_tag": "ABX9TyNYiHdrfRg8IEjiqce5ypwR",
      "include_colab_link": true
    },
    "kernelspec": {
      "name": "python3",
      "display_name": "Python 3"
    },
    "language_info": {
      "name": "python"
    }
  },
  "cells": [
    {
      "cell_type": "markdown",
      "metadata": {
        "id": "view-in-github",
        "colab_type": "text"
      },
      "source": [
        "<a href=\"https://colab.research.google.com/github/Adityajeegari/SMLB-40/blob/main/SML_(2303A52113)_6.ipynb\" target=\"_parent\"><img src=\"https://colab.research.google.com/assets/colab-badge.svg\" alt=\"Open In Colab\"/></a>"
      ]
    },
    {
      "cell_type": "markdown",
      "source": [
        "**ADITYA JEEGARI(2303A52113)**"
      ],
      "metadata": {
        "id": "zC9CSRx_VVKv"
      }
    },
    {
      "cell_type": "markdown",
      "source": [
        "Question 1:\n",
        "\n",
        "Imagine you are developing a simple machine learning model to predict whether a student will pass a course based on the following five features:\n",
        "\n",
        "1.Study Hours per Week: Number of hours the student studies per week.\n",
        "\n",
        "2.Class Attendance (%): Percentage of classes attended by the student.\n",
        "\n",
        "3.Previous Exam Score (%): Score in the previous exam.\n",
        "\n",
        "4.Participation in Group Study: Whether the student participates in group study sessions (1 for Yes, 0 for No).\n",
        "\n",
        "5.Submission of Assignments (%): Percentage of assignments submitted by the student.\n",
        "\n",
        "Dataset\n",
        "\n",
        "Below is an example dataset with 10 students (rows), 5 features, and a binary target label (Pass/Fail). The target label is 1 if the student is predicted to pass, and 0 if they are predicted to fail."
      ],
      "metadata": {
        "id": "JRBslCj6VeTa"
      }
    },
    {
      "cell_type": "code",
      "source": [
        "#question_1\n",
        "# Import necessary libraries\n",
        "import pandas as pd\n",
        "from sklearn.model_selection import train_test_split\n",
        "from sklearn.ensemble import RandomForestClassifier\n",
        "from sklearn.metrics import accuracy_score\n",
        "\n",
        "# Load the dataset from CSV file\n",
        "#file_path = '/mnt/data/assignment_6.csv'\n",
        "data = pd.read_csv('assignment_6.csv')\n",
        "\n",
        "# Define the features (X) and target (y)\n",
        "X = data.drop('Pass/Fail', axis=1)\n",
        "y = data['Pass/Fail']\n",
        "\n",
        "# Split the data into training and testing sets (70% train, 30% test)\n",
        "X_train, X_test, y_train, y_test = train_test_split(X, y, test_size=0.3, random_state=42)\n",
        "\n",
        "# Initialize the Random Forest Classifier\n",
        "clf = RandomForestClassifier(random_state=42)\n",
        "\n",
        "# Train the model\n",
        "clf.fit(X_train, y_train)\n",
        "\n",
        "# Make predictions on the test set\n",
        "y_pred = clf.predict(X_test)\n",
        "\n",
        "# Evaluate the model's performance\n",
        "accuracy = accuracy_score(y_test, y_pred)\n",
        "\n",
        "# Output the accuracy\n",
        "print(f\"Model Accuracy: {accuracy * 100:.2f}%\")"
      ],
      "metadata": {
        "colab": {
          "base_uri": "https://localhost:8080/"
        },
        "id": "UUCE94djVUz2",
        "outputId": "03385afa-cd94-4646-f860-a51e840aade2"
      },
      "execution_count": 12,
      "outputs": [
        {
          "output_type": "stream",
          "name": "stdout",
          "text": [
            "Model Accuracy: 100.00%\n"
          ]
        }
      ]
    },
    {
      "cell_type": "markdown",
      "source": [
        "Question : 2\n",
        "\n",
        "https://www.kaggle.com/datasets/ishandutta/early-stage-diabetes-risk-prediction-datasetLinks to an external site.\n",
        "\n",
        "Implement a perceptron learning model to train above data, and find the accuracy."
      ],
      "metadata": {
        "id": "IVhWHNFOa3IJ"
      }
    },
    {
      "cell_type": "code",
      "source": [
        "#question_2\n",
        "import pandas as pd\n",
        "from sklearn.model_selection import train_test_split\n",
        "from sklearn.preprocessing import StandardScaler, LabelEncoder # Added LabelEncoder\n",
        "from sklearn.linear_model import Perceptron\n",
        "from sklearn.metrics import accuracy_score\n",
        "\n",
        "# Step 2: Load the dataset (Assuming the CSV is downloaded locally)\n",
        "#url = '/content/drive/MyDrive/diabetes_data_upload.csv'  # Change this to your local path if necessary\n",
        "df = pd.read_csv('diabetes_data.csv')\n",
        "\n",
        "# Step 3: Preprocess the data\n",
        "# Check the data and remove/encode any non-numerical columns, or handle missing data\n",
        "df = df.dropna()  # Drop any rows with missing values (or handle differently if needed)\n",
        "\n",
        "# Convert 'Gender' column to numerical using Label Encoding\n",
        "label_encoder = LabelEncoder() # Initialize LabelEncoder\n",
        "df['Gender'] = label_encoder.fit_transform(df['Gender']) # Fit and transform the 'Gender' column\n",
        "\n",
        "# Identify columns with 'Yes' and 'No' and convert them to numerical using Label Encoding\n",
        "for column in df.columns:\n",
        "    if df[column].isin(['Yes', 'No']).any():\n",
        "        df[column] = label_encoder.fit_transform(df[column])\n",
        "\n",
        "# Assuming the last column is the target\n",
        "X = df.drop('class', axis=1)  # Features\n",
        "y = df['class']  # Target (labels)\n",
        "\n",
        "# Step 4: Split the data into train and test sets\n",
        "X_train, X_test, y_train, y_test = train_test_split(X, y, test_size=0.3, random_state=42)\n",
        "\n",
        "# Step 5: Feature scaling\n",
        "scaler = StandardScaler()\n",
        "X_train = scaler.fit_transform(X_train)\n",
        "X_test = scaler.transform(X_test)\n",
        "\n",
        "# Step 6: Train the Perceptron model\n",
        "perceptron = Perceptron(max_iter=1000, tol=1e-3, random_state=42)\n",
        "perceptron.fit(X_train, y_train)\n",
        "\n",
        "# Step 7: Predict and calculate accuracy\n",
        "y_pred = perceptron.predict(X_test)\n",
        "accuracy = accuracy_score(y_test, y_pred)\n",
        "\n",
        "print(f\"Model accuracy: {accuracy * 100:.2f}%\")"
      ],
      "metadata": {
        "colab": {
          "base_uri": "https://localhost:8080/"
        },
        "id": "LZRLdA5la8DV",
        "outputId": "abd7c0b7-7a2f-4f09-85a8-0b963089f134"
      },
      "execution_count": 11,
      "outputs": [
        {
          "output_type": "stream",
          "name": "stdout",
          "text": [
            "Model accuracy: 89.74%\n"
          ]
        }
      ]
    }
  ]
}
